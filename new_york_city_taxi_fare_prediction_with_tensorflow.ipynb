{
  "nbformat": 4,
  "nbformat_minor": 0,
  "metadata": {
    "colab": {
      "name": "new_york_city_taxi_fare_prediction_with_tensorflow.ipynb",
      "provenance": [],
      "collapsed_sections": [],
      "toc_visible": true,
      "authorship_tag": "ABX9TyM56EvZwIJ3HeVfT4AdeFGB",
      "include_colab_link": true
    },
    "kernelspec": {
      "name": "python3",
      "display_name": "Python 3"
    }
  },
  "cells": [
    {
      "cell_type": "markdown",
      "metadata": {
        "id": "view-in-github",
        "colab_type": "text"
      },
      "source": [
        "<a href=\"https://colab.research.google.com/github/tangani/New-York-City-Taxi-Fare-Prediction/blob/main/new_york_city_taxi_fare_prediction_with_tensorflow.ipynb\" target=\"_parent\"><img src=\"https://colab.research.google.com/assets/colab-badge.svg\" alt=\"Open In Colab\"/></a>"
      ]
    },
    {
      "cell_type": "markdown",
      "metadata": {
        "id": "ndBp_9eQNsJy"
      },
      "source": [
        "# New York City Taxi Fare Prediction\n",
        "\n",
        "### Aim: Predict the fare amount (inclusive of tolls) for a taxi ride in New York City given the pickup and dropoff locations.\n",
        "\n"
      ]
    },
    {
      "cell_type": "markdown",
      "metadata": {
        "id": "XSAaDj-LStVi"
      },
      "source": [
        "## Steps to be followd in this notebook:\n",
        "\n",
        "*    Data Gathering\n",
        "*    Exploritory data analysis\n",
        "*    Testing the model’s performance\n",
        "*    Implementing custom object detectors on test images\n",
        "*    Loading the models and implementation "
      ]
    },
    {
      "cell_type": "markdown",
      "metadata": {
        "id": "1zY7y5h6V6yT"
      },
      "source": [
        "### Import required libraries"
      ]
    },
    {
      "cell_type": "code",
      "metadata": {
        "id": "Zmnagz-bXsg-"
      },
      "source": [
        "import matplotlib.pyplot as plt\n",
        "import numpy as np\n",
        "import pandas as pd\n",
        "import seaborn as sns\n",
        "\n",
        "from sklearn.preprocessing import StandardScaler\n",
        "\n",
        "from sklearn.model_selection import train_test_split\n",
        "\n",
        "from sklearn.linear_model import LinearRegression\n",
        "from sklearn.tree import DecisionTreeRegressor\n",
        "\n",
        "from sklearn.metrics import mean_absolute_error\n",
        "from sklearn.metrics import mean_squared_error\n",
        "\n",
        "# Make numpy printouts easier to read.\n",
        "np.set_printoptions(precision=3, suppress=True)"
      ],
      "execution_count": 3,
      "outputs": []
    },
    {
      "cell_type": "markdown",
      "metadata": {
        "id": "S0xIVrcNV39O"
      },
      "source": [
        "### Import data"
      ]
    },
    {
      "cell_type": "code",
      "metadata": {
        "colab": {
          "base_uri": "https://localhost:8080/"
        },
        "id": "FC7-zALUX5rP",
        "outputId": "0dbd06a6-e173-4ff0-a2e2-1ff03033b16e"
      },
      "source": [
        "from google.colab import drive\n",
        "drive.mount('/content/drive')"
      ],
      "execution_count": 2,
      "outputs": [
        {
          "output_type": "stream",
          "text": [
            "Mounted at /content/drive\n"
          ],
          "name": "stdout"
        }
      ]
    },
    {
      "cell_type": "code",
      "metadata": {
        "id": "xTaJIGSzYDkp"
      },
      "source": [
        "train_df = pd.read_csv('/content/drive/MyDrive/data_science/new-york-city-taxi-fare-prediction/train.csv', nrows=100000)\n",
        "test_df = pd.read_csv('/content/drive/MyDrive/data_science/new-york-city-taxi-fare-prediction/test.csv')"
      ],
      "execution_count": 4,
      "outputs": []
    },
    {
      "cell_type": "markdown",
      "metadata": {
        "id": "BcZcX3YxT43N"
      },
      "source": [
        "### Take a look at the data structure\n",
        "\n",
        "At this point we are mostly interested at the train set which is what we have to analyze and augment to prepare for the training model first"
      ]
    },
    {
      "cell_type": "code",
      "metadata": {
        "colab": {
          "base_uri": "https://localhost:8080/",
          "height": 197
        },
        "id": "bnxZbKPfT2nC",
        "outputId": "ee0fb571-1a61-4f4c-abf9-f705889f0099"
      },
      "source": [
        "train_df.head()"
      ],
      "execution_count": 5,
      "outputs": [
        {
          "output_type": "execute_result",
          "data": {
            "text/html": [
              "<div>\n",
              "<style scoped>\n",
              "    .dataframe tbody tr th:only-of-type {\n",
              "        vertical-align: middle;\n",
              "    }\n",
              "\n",
              "    .dataframe tbody tr th {\n",
              "        vertical-align: top;\n",
              "    }\n",
              "\n",
              "    .dataframe thead th {\n",
              "        text-align: right;\n",
              "    }\n",
              "</style>\n",
              "<table border=\"1\" class=\"dataframe\">\n",
              "  <thead>\n",
              "    <tr style=\"text-align: right;\">\n",
              "      <th></th>\n",
              "      <th>key</th>\n",
              "      <th>fare_amount</th>\n",
              "      <th>pickup_datetime</th>\n",
              "      <th>pickup_longitude</th>\n",
              "      <th>pickup_latitude</th>\n",
              "      <th>dropoff_longitude</th>\n",
              "      <th>dropoff_latitude</th>\n",
              "      <th>passenger_count</th>\n",
              "    </tr>\n",
              "  </thead>\n",
              "  <tbody>\n",
              "    <tr>\n",
              "      <th>0</th>\n",
              "      <td>2009-06-15 17:26:21.0000001</td>\n",
              "      <td>4.5</td>\n",
              "      <td>2009-06-15 17:26:21 UTC</td>\n",
              "      <td>-73.844311</td>\n",
              "      <td>40.721319</td>\n",
              "      <td>-73.841610</td>\n",
              "      <td>40.712278</td>\n",
              "      <td>1</td>\n",
              "    </tr>\n",
              "    <tr>\n",
              "      <th>1</th>\n",
              "      <td>2010-01-05 16:52:16.0000002</td>\n",
              "      <td>16.9</td>\n",
              "      <td>2010-01-05 16:52:16 UTC</td>\n",
              "      <td>-74.016048</td>\n",
              "      <td>40.711303</td>\n",
              "      <td>-73.979268</td>\n",
              "      <td>40.782004</td>\n",
              "      <td>1</td>\n",
              "    </tr>\n",
              "    <tr>\n",
              "      <th>2</th>\n",
              "      <td>2011-08-18 00:35:00.00000049</td>\n",
              "      <td>5.7</td>\n",
              "      <td>2011-08-18 00:35:00 UTC</td>\n",
              "      <td>-73.982738</td>\n",
              "      <td>40.761270</td>\n",
              "      <td>-73.991242</td>\n",
              "      <td>40.750562</td>\n",
              "      <td>2</td>\n",
              "    </tr>\n",
              "    <tr>\n",
              "      <th>3</th>\n",
              "      <td>2012-04-21 04:30:42.0000001</td>\n",
              "      <td>7.7</td>\n",
              "      <td>2012-04-21 04:30:42 UTC</td>\n",
              "      <td>-73.987130</td>\n",
              "      <td>40.733143</td>\n",
              "      <td>-73.991567</td>\n",
              "      <td>40.758092</td>\n",
              "      <td>1</td>\n",
              "    </tr>\n",
              "    <tr>\n",
              "      <th>4</th>\n",
              "      <td>2010-03-09 07:51:00.000000135</td>\n",
              "      <td>5.3</td>\n",
              "      <td>2010-03-09 07:51:00 UTC</td>\n",
              "      <td>-73.968095</td>\n",
              "      <td>40.768008</td>\n",
              "      <td>-73.956655</td>\n",
              "      <td>40.783762</td>\n",
              "      <td>1</td>\n",
              "    </tr>\n",
              "  </tbody>\n",
              "</table>\n",
              "</div>"
            ],
            "text/plain": [
              "                             key  ...  passenger_count\n",
              "0    2009-06-15 17:26:21.0000001  ...                1\n",
              "1    2010-01-05 16:52:16.0000002  ...                1\n",
              "2   2011-08-18 00:35:00.00000049  ...                2\n",
              "3    2012-04-21 04:30:42.0000001  ...                1\n",
              "4  2010-03-09 07:51:00.000000135  ...                1\n",
              "\n",
              "[5 rows x 8 columns]"
            ]
          },
          "metadata": {
            "tags": []
          },
          "execution_count": 5
        }
      ]
    },
    {
      "cell_type": "code",
      "metadata": {
        "colab": {
          "base_uri": "https://localhost:8080/"
        },
        "id": "WWuv213JT7ry",
        "outputId": "b648d69e-8354-48b4-e4ee-b5f345fc31bd"
      },
      "source": [
        "train_df.shape"
      ],
      "execution_count": 6,
      "outputs": [
        {
          "output_type": "execute_result",
          "data": {
            "text/plain": [
              "(100000, 8)"
            ]
          },
          "metadata": {
            "tags": []
          },
          "execution_count": 6
        }
      ]
    },
    {
      "cell_type": "code",
      "metadata": {
        "colab": {
          "base_uri": "https://localhost:8080/"
        },
        "id": "NGty9XfVT7py",
        "outputId": "fa580c71-080f-4a48-e941-a12550d5e1ec"
      },
      "source": [
        "test_df.shape"
      ],
      "execution_count": 7,
      "outputs": [
        {
          "output_type": "execute_result",
          "data": {
            "text/plain": [
              "(9914, 7)"
            ]
          },
          "metadata": {
            "tags": []
          },
          "execution_count": 7
        }
      ]
    },
    {
      "cell_type": "code",
      "metadata": {
        "colab": {
          "base_uri": "https://localhost:8080/"
        },
        "id": "AGNySJuJT7mk",
        "outputId": "fc998494-30bf-4a1e-d06c-16b7790d527a"
      },
      "source": [
        "train_df.info(verbose=True, null_counts=True)"
      ],
      "execution_count": 8,
      "outputs": [
        {
          "output_type": "stream",
          "text": [
            "<class 'pandas.core.frame.DataFrame'>\n",
            "RangeIndex: 100000 entries, 0 to 99999\n",
            "Data columns (total 8 columns):\n",
            " #   Column             Non-Null Count   Dtype  \n",
            "---  ------             --------------   -----  \n",
            " 0   key                100000 non-null  object \n",
            " 1   fare_amount        100000 non-null  float64\n",
            " 2   pickup_datetime    100000 non-null  object \n",
            " 3   pickup_longitude   100000 non-null  float64\n",
            " 4   pickup_latitude    100000 non-null  float64\n",
            " 5   dropoff_longitude  100000 non-null  float64\n",
            " 6   dropoff_latitude   100000 non-null  float64\n",
            " 7   passenger_count    100000 non-null  int64  \n",
            "dtypes: float64(5), int64(1), object(2)\n",
            "memory usage: 6.1+ MB\n"
          ],
          "name": "stdout"
        }
      ]
    },
    {
      "cell_type": "code",
      "metadata": {
        "colab": {
          "base_uri": "https://localhost:8080/"
        },
        "id": "60gHIjFpT7j9",
        "outputId": "4ca42f28-bbed-4e9c-b482-210ecb270b8c"
      },
      "source": [
        "test_df.info(verbose=True, null_counts=True)"
      ],
      "execution_count": 9,
      "outputs": [
        {
          "output_type": "stream",
          "text": [
            "<class 'pandas.core.frame.DataFrame'>\n",
            "RangeIndex: 9914 entries, 0 to 9913\n",
            "Data columns (total 7 columns):\n",
            " #   Column             Non-Null Count  Dtype  \n",
            "---  ------             --------------  -----  \n",
            " 0   key                9914 non-null   object \n",
            " 1   pickup_datetime    9914 non-null   object \n",
            " 2   pickup_longitude   9914 non-null   float64\n",
            " 3   pickup_latitude    9914 non-null   float64\n",
            " 4   dropoff_longitude  9914 non-null   float64\n",
            " 5   dropoff_latitude   9914 non-null   float64\n",
            " 6   passenger_count    9914 non-null   int64  \n",
            "dtypes: float64(4), int64(1), object(2)\n",
            "memory usage: 542.3+ KB\n"
          ],
          "name": "stdout"
        }
      ]
    },
    {
      "cell_type": "code",
      "metadata": {
        "colab": {
          "base_uri": "https://localhost:8080/"
        },
        "id": "jJ_cxso_T7hG",
        "outputId": "8787eee6-cf46-44a6-d663-71eaee3b7dca"
      },
      "source": [
        "longitude_nulls = len(train_df[train_df['dropoff_longitude'].isnull()])\n",
        "latitude_nulls = len(train_df[train_df['dropoff_latitude'].isnull()])\n",
        "print(\"There are {} dropoff_longitude values and {} dropoff_latitude values in the train dataframe\".format(longitude_nulls, latitude_nulls))"
      ],
      "execution_count": 12,
      "outputs": [
        {
          "output_type": "stream",
          "text": [
            "There are 0 dropoff_longitude values and 0 dropoff_latitude values in the train dataframe\n"
          ],
          "name": "stdout"
        }
      ]
    },
    {
      "cell_type": "code",
      "metadata": {
        "colab": {
          "base_uri": "https://localhost:8080/"
        },
        "id": "0NMO79oKT7ed",
        "outputId": "7ef1d081-eebf-480f-d40c-411dee5b323b"
      },
      "source": [
        "longitude_nulls = len(test_df[test_df['dropoff_longitude'].isnull()])\n",
        "latitude_nulls = len(test_df[test_df['dropoff_latitude'].isnull()])\n",
        "print(\"There are {} dropoff_longitude values and {} dropoff_latitude values in Test dataframe\".format(longitude_nulls, latitude_nulls))"
      ],
      "execution_count": 11,
      "outputs": [
        {
          "output_type": "stream",
          "text": [
            "There are 0 dropoff_longitude values and 0 dropoff_latitude values in Test dataframe\n"
          ],
          "name": "stdout"
        }
      ]
    },
    {
      "cell_type": "code",
      "metadata": {
        "colab": {
          "base_uri": "https://localhost:8080/",
          "height": 287
        },
        "id": "La2zEA2ZT7bl",
        "outputId": "940bc4b0-f1fa-4832-abab-2c82ffe23d81"
      },
      "source": [
        "train_df.describe().apply(lambda layman: layman.apply('{0:.5f}'.format))"
      ],
      "execution_count": 13,
      "outputs": [
        {
          "output_type": "execute_result",
          "data": {
            "text/html": [
              "<div>\n",
              "<style scoped>\n",
              "    .dataframe tbody tr th:only-of-type {\n",
              "        vertical-align: middle;\n",
              "    }\n",
              "\n",
              "    .dataframe tbody tr th {\n",
              "        vertical-align: top;\n",
              "    }\n",
              "\n",
              "    .dataframe thead th {\n",
              "        text-align: right;\n",
              "    }\n",
              "</style>\n",
              "<table border=\"1\" class=\"dataframe\">\n",
              "  <thead>\n",
              "    <tr style=\"text-align: right;\">\n",
              "      <th></th>\n",
              "      <th>fare_amount</th>\n",
              "      <th>pickup_longitude</th>\n",
              "      <th>pickup_latitude</th>\n",
              "      <th>dropoff_longitude</th>\n",
              "      <th>dropoff_latitude</th>\n",
              "      <th>passenger_count</th>\n",
              "    </tr>\n",
              "  </thead>\n",
              "  <tbody>\n",
              "    <tr>\n",
              "      <th>count</th>\n",
              "      <td>100000.00000</td>\n",
              "      <td>100000.00000</td>\n",
              "      <td>100000.00000</td>\n",
              "      <td>100000.00000</td>\n",
              "      <td>100000.00000</td>\n",
              "      <td>100000.00000</td>\n",
              "    </tr>\n",
              "    <tr>\n",
              "      <th>mean</th>\n",
              "      <td>11.35465</td>\n",
              "      <td>-72.49468</td>\n",
              "      <td>39.91448</td>\n",
              "      <td>-72.49097</td>\n",
              "      <td>39.91905</td>\n",
              "      <td>1.67382</td>\n",
              "    </tr>\n",
              "    <tr>\n",
              "      <th>std</th>\n",
              "      <td>9.71678</td>\n",
              "      <td>10.69393</td>\n",
              "      <td>6.22569</td>\n",
              "      <td>10.47139</td>\n",
              "      <td>6.21343</td>\n",
              "      <td>1.30017</td>\n",
              "    </tr>\n",
              "    <tr>\n",
              "      <th>min</th>\n",
              "      <td>-44.90000</td>\n",
              "      <td>-736.55000</td>\n",
              "      <td>-74.00767</td>\n",
              "      <td>-84.65424</td>\n",
              "      <td>-74.00638</td>\n",
              "      <td>0.00000</td>\n",
              "    </tr>\n",
              "    <tr>\n",
              "      <th>25%</th>\n",
              "      <td>6.00000</td>\n",
              "      <td>-73.99204</td>\n",
              "      <td>40.73500</td>\n",
              "      <td>-73.99121</td>\n",
              "      <td>40.73418</td>\n",
              "      <td>1.00000</td>\n",
              "    </tr>\n",
              "    <tr>\n",
              "      <th>50%</th>\n",
              "      <td>8.50000</td>\n",
              "      <td>-73.98179</td>\n",
              "      <td>40.75277</td>\n",
              "      <td>-73.98000</td>\n",
              "      <td>40.75324</td>\n",
              "      <td>1.00000</td>\n",
              "    </tr>\n",
              "    <tr>\n",
              "      <th>75%</th>\n",
              "      <td>12.50000</td>\n",
              "      <td>-73.96698</td>\n",
              "      <td>40.76726</td>\n",
              "      <td>-73.96343</td>\n",
              "      <td>40.76817</td>\n",
              "      <td>2.00000</td>\n",
              "    </tr>\n",
              "    <tr>\n",
              "      <th>max</th>\n",
              "      <td>200.00000</td>\n",
              "      <td>40.78757</td>\n",
              "      <td>401.08333</td>\n",
              "      <td>40.85103</td>\n",
              "      <td>404.61667</td>\n",
              "      <td>6.00000</td>\n",
              "    </tr>\n",
              "  </tbody>\n",
              "</table>\n",
              "</div>"
            ],
            "text/plain": [
              "        fare_amount pickup_longitude  ... dropoff_latitude passenger_count\n",
              "count  100000.00000     100000.00000  ...     100000.00000    100000.00000\n",
              "mean       11.35465        -72.49468  ...         39.91905         1.67382\n",
              "std         9.71678         10.69393  ...          6.21343         1.30017\n",
              "min       -44.90000       -736.55000  ...        -74.00638         0.00000\n",
              "25%         6.00000        -73.99204  ...         40.73418         1.00000\n",
              "50%         8.50000        -73.98179  ...         40.75324         1.00000\n",
              "75%        12.50000        -73.96698  ...         40.76817         2.00000\n",
              "max       200.00000         40.78757  ...        404.61667         6.00000\n",
              "\n",
              "[8 rows x 6 columns]"
            ]
          },
          "metadata": {
            "tags": []
          },
          "execution_count": 13
        }
      ]
    },
    {
      "cell_type": "code",
      "metadata": {
        "colab": {
          "base_uri": "https://localhost:8080/",
          "height": 878
        },
        "id": "5AthyiqFT7Yf",
        "outputId": "907d4cca-40fc-457e-f431-b386f82d25e8"
      },
      "source": [
        "%matplotlib inline\n",
        "train_df.hist(figsize=(20,15))\n",
        "plt.show()"
      ],
      "execution_count": 14,
      "outputs": [
        {
          "output_type": "display_data",
          "data": {
            "image/png": "[encoded data removed]",
            "text/plain": [
              "<Figure size 1440x1080 with 6 Axes>"
            ]
          },
          "metadata": {
            "tags": [],
            "needs_background": "light"
          }
        }
      ]
    },
    {
      "cell_type": "code",
      "metadata": {
        "colab": {
          "base_uri": "https://localhost:8080/",
          "height": 342
        },
        "id": "7nWIiQhaUXXr",
        "outputId": "4dca0348-9f81-4008-e53c-e1023fd9f9e1"
      },
      "source": [
        "corr_matrix = train_df.corr()\n",
        "plt.figure(figsize = (16,5))\n",
        "\n",
        "sns.heatmap(corr_matrix,\n",
        "            annot=True,\n",
        "            linewidths=.5)"
      ],
      "execution_count": 15,
      "outputs": [
        {
          "output_type": "execute_result",
          "data": {
            "text/plain": [
              "<matplotlib.axes._subplots.AxesSubplot at 0x7fb713720550>"
            ]
          },
          "metadata": {
            "tags": []
          },
          "execution_count": 15
        },
        {
          "output_type": "display_data",
          "data": {
            "image/png": "[encoded data removed]",
            "text/plain": [
              "<Figure size 1152x360 with 2 Axes>"
            ]
          },
          "metadata": {
            "tags": [],
            "needs_background": "light"
          }
        }
      ]
    },
    {
      "cell_type": "markdown",
      "metadata": {
        "id": "ydSSnyoOVqIP"
      },
      "source": [
        "## Data engineering\n",
        "\n",
        "Issues that affect taxi fares according to investopedia are as follows:\n",
        "***\n",
        "* Yellow cabs have regulated fares to and from the Newark International and John F. Kennedy International airports. For trips between Newark International Airport and New York City, the price is the regular metered fare, plus tolls. For trips between John F. Kennedy International Airport and Manhattan, it is a flat fare. The regular metered fare applies to all trips to and from LaGuardia International Airport.\n",
        "***\n",
        "1. Calculate the [Manhattan distance](https://www.sciencedirect.com/topics/computer-science/manhattan-distance) between pick up and drop off points. this is mainly because the Euclidean distance only looks for the shortest path etween two points where as the Manhattan distance was engineered specifically for the grid system like the one at hand.\n",
        "2. Calculate the distance from each airports for either departure or arrival.\n",
        "  1. [Newark International Airport](https://www.google.com/maps?client=firefox-b-d&sxsrf=ALeKk00u4W85sTWaeqEF2sopZPLeT8pW4A:1610458245182&q=newark+international+coordinates&gs_lcp=CgZwc3ktYWIQAxgAMgUIIRCgATIFCCEQoAE6BAgAEEc6EAguEMcBEK8BEMkDEEMQkwI6BAgAEEM6AggAOggILhDHARCvAToFCAAQyQM6BggAEBYQHjoHCCEQChCgAToECCEQFVCu0gJY4O0CYL31AmgAcAJ4AIABkQOIAZoVkgEHMi02LjIuMZgBAKABAaoBB2d3cy13aXrIAQjAAQE&um=1&ie=UTF-8&sa=X&ved=2ahUKEwiT-L_UwJbuAhXbiVwKHfxiCAAQ_AUoAXoECAgQAw) 40.6895° N, 74.1745° W\n",
        "  2. [John F. Kennedy International Airport](https://www.google.com/maps?client=firefox-b-d&sxsrf=ALeKk03Lebh9DX88OXUBXYG3qP3KLMajbg:1610458294397&q=John+F.+Kennedy+International+coordinates&gs_lcp=CgZwc3ktYWIQAzoECAAQR1DU4ApY1OAKYP_nCmgAcAJ4AIAB6QOIAekDkgEDNC0xmAEAoAECoAEBqgEHZ3dzLXdpesgBCMABAQ&uact=5&um=1&ie=UTF-8&sa=X&ved=2ahUKEwiumfrJwZbuAhXDiFwKHR-uB2sQ_AUoAXoECBoQAw) 40.6413° N, 73.7781° W\n",
        "3. Decompose `pickup_datetime` into its year, month, date and hour components. Futher extract the date of the week"
      ]
    },
    {
      "cell_type": "code",
      "metadata": {
        "id": "v-T3b2I7UXUN"
      },
      "source": [
        "def manhattan_vector(df):\n",
        "    \"\"\"\n",
        "    Function to calculate the Manhattan vector\n",
        "    Please note that due to bias in SA such that its more expensive to drive to Sandton that around Germiston, I will assume \n",
        "    such bias is universal and not calculate the true Manhattan distance, instead leace the components thereof.\n",
        "    \"\"\"\n",
        "    df['logitude_difference'] = (df.dropoff_longitude - df.pickup_longitude).abs()\n",
        "    df['lottitude_difference'] = (df.dropoff_latitude - df.pickup_latitude).abs()\n",
        "\n",
        "manhattan_vector(train_df)\n",
        "manhattan_vector(test_df)"
      ],
      "execution_count": 16,
      "outputs": []
    },
    {
      "cell_type": "code",
      "metadata": {
        "colab": {
          "base_uri": "https://localhost:8080/",
          "height": 297
        },
        "id": "VTWpzJKUUXRC",
        "outputId": "1535e4a5-5532-4b3c-db15-fa0106e56e14"
      },
      "source": [
        "train_df.plot.scatter('logitude_difference', 'lottitude_difference')"
      ],
      "execution_count": 17,
      "outputs": [
        {
          "output_type": "execute_result",
          "data": {
            "text/plain": [
              "<matplotlib.axes._subplots.AxesSubplot at 0x7fb70a4beed0>"
            ]
          },
          "metadata": {
            "tags": []
          },
          "execution_count": 17
        },
        {
          "output_type": "display_data",
          "data": {
            "image/png": "[encoded data removed]",
            "text/plain": [
              "<Figure size 432x288 with 1 Axes>"
            ]
          },
          "metadata": {
            "tags": [],
            "needs_background": "light"
          }
        }
      ]
    },
    {
      "cell_type": "code",
      "metadata": {
        "colab": {
          "base_uri": "https://localhost:8080/",
          "height": 297
        },
        "id": "f6oHbYJBUXNo",
        "outputId": "495c662a-0808-4986-8953-9aa4b349ecaa"
      },
      "source": [
        "test_df.plot.scatter('logitude_difference', 'lottitude_difference')"
      ],
      "execution_count": 18,
      "outputs": [
        {
          "output_type": "execute_result",
          "data": {
            "text/plain": [
              "<matplotlib.axes._subplots.AxesSubplot at 0x7fb712e16e50>"
            ]
          },
          "metadata": {
            "tags": []
          },
          "execution_count": 18
        },
        {
          "output_type": "display_data",
          "data": {
            "image/png": "[encoded data removed]",
            "text/plain": [
              "<Figure size 432x288 with 1 Axes>"
            ]
          },
          "metadata": {
            "tags": [],
            "needs_background": "light"
          }
        }
      ]
    },
    {
      "cell_type": "markdown",
      "metadata": {
        "id": "BDttTwf0XXxe"
      },
      "source": [
        "* Some serios standardization will be required here\n",
        "\n",
        "> It is also woth noting that outliers are possible due to the location of the taxi rides as much as Sandton will be more exponsing than Pretorian rides.\n",
        "\n",
        "* [Haversine formula](https://en.wikipedia.org/wiki/Haversine_formula) will be used to calculate the distance from each airport.\n",
        "\n",
        "* * For more details on the algoritm [click me](https://www.kite.com/python/answers/how-to-find-the-distance-between-two-lat-long-coordinates-in-python) "
      ]
    },
    {
      "cell_type": "code",
      "metadata": {
        "id": "jHFXQylLUXKs"
      },
      "source": [
        "R = 6373.0\n",
        "\n",
        "lat1 =np.asarray(np.radians(train_df['pickup_latitude']))\n",
        "lon1 = np.asarray(np.radians(train_df['pickup_longitude']))\n",
        "lat2 = np.asarray(np.radians(train_df['dropoff_latitude']))\n",
        "lon2 = np.asarray(np.radians(train_df['dropoff_longitude']))\n",
        "\n",
        "lat3=np.zeros(len(train_df))+np.radians(40.6413111)\n",
        "lon3=np.zeros(len(train_df))+np.radians(-73.7781391)\n",
        "\n",
        "dlon_pickup = lon3 - lon1\n",
        "dlat_pickup = lat3 - lat1\n",
        "\n",
        "d_lon_dropoff=lon3 -lon2\n",
        "d_lat_dropoff=lat3-lat2\n",
        "\n",
        "a1 = np.sin(dlat_pickup/2)**2 + np.cos(lat1) * np.cos(lat3) * np.sin(dlon_pickup/ 2)**2\n",
        "c1 = 2 * np.arctan2(np.sqrt(a1), np.sqrt(1 - a1))\n",
        "distance1 = R * c1\n",
        "train_df['Pickup_Distance_airport']=np.asarray(distance1)\n",
        "\n",
        "a2=np.sin(d_lat_dropoff/2)**2 + np.cos(lat2) * np.cos(lat3) * np.sin(d_lon_dropoff/ 2)**2\n",
        "c2 = 2 * np.arctan2(np.sqrt(a2), np.sqrt(1 - a2))\n",
        "distance2 = R * c2\n",
        "\n",
        "    \n",
        "train_df['Dropoff_Distance_airport']=np.asarray(distance2)"
      ],
      "execution_count": 19,
      "outputs": []
    },
    {
      "cell_type": "code",
      "metadata": {
        "id": "4rh5vTCqUXHX"
      },
      "source": [
        "lat1 =np.asarray(np.radians(test_df['pickup_latitude']))\n",
        "lon1 = np.asarray(np.radians(test_df['pickup_longitude']))\n",
        "lat2 = np.asarray(np.radians(test_df['dropoff_latitude']))\n",
        "lon2 = np.asarray(np.radians(test_df['dropoff_longitude']))\n",
        "\n",
        "lat3=np.zeros(len(test_df))+np.radians(40.6413111)\n",
        "lon3=np.zeros(len(test_df))+np.radians(-73.7781391)\n",
        "\n",
        "dlon_pickup = lon3 - lon1\n",
        "dlat_pickup = lat3 - lat1\n",
        "d_lon_dropoff=lon3 -lon2\n",
        "d_lat_dropoff=lat3-lat2\n",
        "a1 = np.sin(dlat_pickup/2)**2 + np.cos(lat1) * np.cos(lat3) * np.sin(dlon_pickup/ 2)**2\n",
        "c1 = 2 * np.arctan2(np.sqrt(a1), np.sqrt(1 - a1))\n",
        "distance1 = R * c1\n",
        "test_df['Pickup_Distance_airport']=np.asarray(distance1)*0.621\n",
        "\n",
        "a2=np.sin(d_lat_dropoff/2)**2 + np.cos(lat2) * np.cos(lat3) * np.sin(d_lon_dropoff/ 2)**2\n",
        "c2 = 2 * np.arctan2(np.sqrt(a2), np.sqrt(1 - a2))\n",
        "distance2 = R * c2\n",
        "\n",
        "    \n",
        "test_df['Dropoff_Distance_airport']=np.asarray(distance2)*0.621"
      ],
      "execution_count": 20,
      "outputs": []
    },
    {
      "cell_type": "code",
      "metadata": {
        "colab": {
          "base_uri": "https://localhost:8080/",
          "height": 281
        },
        "id": "F6T85No1UXEo",
        "outputId": "e6924d79-e983-45ba-d9b9-123296e86f23"
      },
      "source": [
        "train_df.head()"
      ],
      "execution_count": 21,
      "outputs": [
        {
          "output_type": "execute_result",
          "data": {
            "text/html": [
              "<div>\n",
              "<style scoped>\n",
              "    .dataframe tbody tr th:only-of-type {\n",
              "        vertical-align: middle;\n",
              "    }\n",
              "\n",
              "    .dataframe tbody tr th {\n",
              "        vertical-align: top;\n",
              "    }\n",
              "\n",
              "    .dataframe thead th {\n",
              "        text-align: right;\n",
              "    }\n",
              "</style>\n",
              "<table border=\"1\" class=\"dataframe\">\n",
              "  <thead>\n",
              "    <tr style=\"text-align: right;\">\n",
              "      <th></th>\n",
              "      <th>key</th>\n",
              "      <th>fare_amount</th>\n",
              "      <th>pickup_datetime</th>\n",
              "      <th>pickup_longitude</th>\n",
              "      <th>pickup_latitude</th>\n",
              "      <th>dropoff_longitude</th>\n",
              "      <th>dropoff_latitude</th>\n",
              "      <th>passenger_count</th>\n",
              "      <th>logitude_difference</th>\n",
              "      <th>lottitude_difference</th>\n",
              "      <th>Pickup_Distance_airport</th>\n",
              "      <th>Dropoff_Distance_airport</th>\n",
              "    </tr>\n",
              "  </thead>\n",
              "  <tbody>\n",
              "    <tr>\n",
              "      <th>0</th>\n",
              "      <td>2009-06-15 17:26:21.0000001</td>\n",
              "      <td>4.5</td>\n",
              "      <td>2009-06-15 17:26:21 UTC</td>\n",
              "      <td>-73.844311</td>\n",
              "      <td>40.721319</td>\n",
              "      <td>-73.841610</td>\n",
              "      <td>40.712278</td>\n",
              "      <td>1</td>\n",
              "      <td>0.002701</td>\n",
              "      <td>0.009041</td>\n",
              "      <td>10.504844</td>\n",
              "      <td>9.538175</td>\n",
              "    </tr>\n",
              "    <tr>\n",
              "      <th>1</th>\n",
              "      <td>2010-01-05 16:52:16.0000002</td>\n",
              "      <td>16.9</td>\n",
              "      <td>2010-01-05 16:52:16 UTC</td>\n",
              "      <td>-74.016048</td>\n",
              "      <td>40.711303</td>\n",
              "      <td>-73.979268</td>\n",
              "      <td>40.782004</td>\n",
              "      <td>1</td>\n",
              "      <td>0.036780</td>\n",
              "      <td>0.070701</td>\n",
              "      <td>21.526406</td>\n",
              "      <td>23.075107</td>\n",
              "    </tr>\n",
              "    <tr>\n",
              "      <th>2</th>\n",
              "      <td>2011-08-18 00:35:00.00000049</td>\n",
              "      <td>5.7</td>\n",
              "      <td>2011-08-18 00:35:00 UTC</td>\n",
              "      <td>-73.982738</td>\n",
              "      <td>40.761270</td>\n",
              "      <td>-73.991242</td>\n",
              "      <td>40.750562</td>\n",
              "      <td>2</td>\n",
              "      <td>0.008504</td>\n",
              "      <td>0.010708</td>\n",
              "      <td>21.810508</td>\n",
              "      <td>21.694306</td>\n",
              "    </tr>\n",
              "    <tr>\n",
              "      <th>3</th>\n",
              "      <td>2012-04-21 04:30:42.0000001</td>\n",
              "      <td>7.7</td>\n",
              "      <td>2012-04-21 04:30:42 UTC</td>\n",
              "      <td>-73.987130</td>\n",
              "      <td>40.733143</td>\n",
              "      <td>-73.991567</td>\n",
              "      <td>40.758092</td>\n",
              "      <td>1</td>\n",
              "      <td>0.004437</td>\n",
              "      <td>0.024949</td>\n",
              "      <td>20.372659</td>\n",
              "      <td>22.195713</td>\n",
              "    </tr>\n",
              "    <tr>\n",
              "      <th>4</th>\n",
              "      <td>2010-03-09 07:51:00.000000135</td>\n",
              "      <td>5.3</td>\n",
              "      <td>2010-03-09 07:51:00 UTC</td>\n",
              "      <td>-73.968095</td>\n",
              "      <td>40.768008</td>\n",
              "      <td>-73.956655</td>\n",
              "      <td>40.783762</td>\n",
              "      <td>1</td>\n",
              "      <td>0.011440</td>\n",
              "      <td>0.015754</td>\n",
              "      <td>21.334291</td>\n",
              "      <td>21.853756</td>\n",
              "    </tr>\n",
              "  </tbody>\n",
              "</table>\n",
              "</div>"
            ],
            "text/plain": [
              "                             key  ...  Dropoff_Distance_airport\n",
              "0    2009-06-15 17:26:21.0000001  ...                  9.538175\n",
              "1    2010-01-05 16:52:16.0000002  ...                 23.075107\n",
              "2   2011-08-18 00:35:00.00000049  ...                 21.694306\n",
              "3    2012-04-21 04:30:42.0000001  ...                 22.195713\n",
              "4  2010-03-09 07:51:00.000000135  ...                 21.853756\n",
              "\n",
              "[5 rows x 12 columns]"
            ]
          },
          "metadata": {
            "tags": []
          },
          "execution_count": 21
        }
      ]
    },
    {
      "cell_type": "code",
      "metadata": {
        "colab": {
          "base_uri": "https://localhost:8080/",
          "height": 281
        },
        "id": "2-AXhogBUXB1",
        "outputId": "c8cb4903-74b3-43bf-c088-6362b3fb3617"
      },
      "source": [
        "test_df.head()"
      ],
      "execution_count": 22,
      "outputs": [
        {
          "output_type": "execute_result",
          "data": {
            "text/html": [
              "<div>\n",
              "<style scoped>\n",
              "    .dataframe tbody tr th:only-of-type {\n",
              "        vertical-align: middle;\n",
              "    }\n",
              "\n",
              "    .dataframe tbody tr th {\n",
              "        vertical-align: top;\n",
              "    }\n",
              "\n",
              "    .dataframe thead th {\n",
              "        text-align: right;\n",
              "    }\n",
              "</style>\n",
              "<table border=\"1\" class=\"dataframe\">\n",
              "  <thead>\n",
              "    <tr style=\"text-align: right;\">\n",
              "      <th></th>\n",
              "      <th>key</th>\n",
              "      <th>pickup_datetime</th>\n",
              "      <th>pickup_longitude</th>\n",
              "      <th>pickup_latitude</th>\n",
              "      <th>dropoff_longitude</th>\n",
              "      <th>dropoff_latitude</th>\n",
              "      <th>passenger_count</th>\n",
              "      <th>logitude_difference</th>\n",
              "      <th>lottitude_difference</th>\n",
              "      <th>Pickup_Distance_airport</th>\n",
              "      <th>Dropoff_Distance_airport</th>\n",
              "    </tr>\n",
              "  </thead>\n",
              "  <tbody>\n",
              "    <tr>\n",
              "      <th>0</th>\n",
              "      <td>2015-01-27 13:08:24.0000002</td>\n",
              "      <td>2015-01-27 13:08:24 UTC</td>\n",
              "      <td>-73.973320</td>\n",
              "      <td>40.763805</td>\n",
              "      <td>-73.981430</td>\n",
              "      <td>40.743835</td>\n",
              "      <td>1</td>\n",
              "      <td>0.008110</td>\n",
              "      <td>0.019970</td>\n",
              "      <td>13.268494</td>\n",
              "      <td>12.787047</td>\n",
              "    </tr>\n",
              "    <tr>\n",
              "      <th>1</th>\n",
              "      <td>2015-01-27 13:08:24.0000003</td>\n",
              "      <td>2015-01-27 13:08:24 UTC</td>\n",
              "      <td>-73.986862</td>\n",
              "      <td>40.719383</td>\n",
              "      <td>-73.998886</td>\n",
              "      <td>40.739201</td>\n",
              "      <td>1</td>\n",
              "      <td>0.012024</td>\n",
              "      <td>0.019817</td>\n",
              "      <td>12.191063</td>\n",
              "      <td>13.393626</td>\n",
              "    </tr>\n",
              "    <tr>\n",
              "      <th>2</th>\n",
              "      <td>2011-10-08 11:53:44.0000002</td>\n",
              "      <td>2011-10-08 11:53:44 UTC</td>\n",
              "      <td>-73.982524</td>\n",
              "      <td>40.751260</td>\n",
              "      <td>-73.979654</td>\n",
              "      <td>40.746139</td>\n",
              "      <td>1</td>\n",
              "      <td>0.002870</td>\n",
              "      <td>0.005121</td>\n",
              "      <td>13.124241</td>\n",
              "      <td>12.798891</td>\n",
              "    </tr>\n",
              "    <tr>\n",
              "      <th>3</th>\n",
              "      <td>2012-12-01 21:12:12.0000002</td>\n",
              "      <td>2012-12-01 21:12:12 UTC</td>\n",
              "      <td>-73.981160</td>\n",
              "      <td>40.767807</td>\n",
              "      <td>-73.990448</td>\n",
              "      <td>40.751635</td>\n",
              "      <td>1</td>\n",
              "      <td>0.009288</td>\n",
              "      <td>0.016172</td>\n",
              "      <td>13.760833</td>\n",
              "      <td>13.479426</td>\n",
              "    </tr>\n",
              "    <tr>\n",
              "      <th>4</th>\n",
              "      <td>2012-12-01 21:12:12.0000003</td>\n",
              "      <td>2012-12-01 21:12:12 UTC</td>\n",
              "      <td>-73.966046</td>\n",
              "      <td>40.789775</td>\n",
              "      <td>-73.988565</td>\n",
              "      <td>40.744427</td>\n",
              "      <td>1</td>\n",
              "      <td>0.022519</td>\n",
              "      <td>0.045348</td>\n",
              "      <td>14.210816</td>\n",
              "      <td>13.121913</td>\n",
              "    </tr>\n",
              "  </tbody>\n",
              "</table>\n",
              "</div>"
            ],
            "text/plain": [
              "                           key  ... Dropoff_Distance_airport\n",
              "0  2015-01-27 13:08:24.0000002  ...                12.787047\n",
              "1  2015-01-27 13:08:24.0000003  ...                13.393626\n",
              "2  2011-10-08 11:53:44.0000002  ...                12.798891\n",
              "3  2012-12-01 21:12:12.0000002  ...                13.479426\n",
              "4  2012-12-01 21:12:12.0000003  ...                13.121913\n",
              "\n",
              "[5 rows x 11 columns]"
            ]
          },
          "metadata": {
            "tags": []
          },
          "execution_count": 22
        }
      ]
    },
    {
      "cell_type": "markdown",
      "metadata": {
        "id": "fDmyrqsKX-ac"
      },
      "source": [
        "#### Fixing the pickup_datetime"
      ]
    },
    {
      "cell_type": "code",
      "metadata": {
        "id": "NG0IjlaQUW-i"
      },
      "source": [
        "train_df.pickup_datetime = train_df.pickup_datetime.str.slice(0,16)\n",
        "test_df.pickup_datetime = test_df.pickup_datetime.str.slice(0,16)\n",
        "\n",
        "train_df.pickup_datetime = pd.to_datetime(train_df.pickup_datetime, format='%Y-%m-%d %H:%M')\n",
        "test_df.pickup_datetime = pd.to_datetime(test_df.pickup_datetime, format='%Y-%m-%d %H:%M')"
      ],
      "execution_count": 23,
      "outputs": []
    },
    {
      "cell_type": "code",
      "metadata": {
        "id": "QZguNQnaUW7w"
      },
      "source": [
        "def date_extractor(df):\n",
        "  df['year'] = pd.DatetimeIndex(df['pickup_datetime']).year\n",
        "  df['month'] = pd.DatetimeIndex(df['pickup_datetime']).month\n",
        "  df['day'] = pd.DatetimeIndex(df['pickup_datetime']).day\n",
        "  df['hour'] = pd.DatetimeIndex(df['pickup_datetime']).hour\n",
        "  df['date'] = pd.DatetimeIndex(df['pickup_datetime']).date\n",
        "\n",
        "date_extractor(train_df)\n",
        "date_extractor(test_df)"
      ],
      "execution_count": 24,
      "outputs": []
    },
    {
      "cell_type": "code",
      "metadata": {
        "id": "by8-RiIIUW49"
      },
      "source": [
        "def extract_weedkay(df):\n",
        "  df['weekday'] = pd.to_datetime(df.pickup_datetime).dt.dayofweek\n",
        "\n",
        "extract_weedkay(train_df)\n",
        "extract_weedkay(test_df)"
      ],
      "execution_count": 25,
      "outputs": []
    },
    {
      "cell_type": "code",
      "metadata": {
        "id": "qkO8Ijp7UW2Y"
      },
      "source": [
        "train_df['weekday'].replace(to_replace=[i for i in range(0,7)],\n",
        "                            value=['Monday','Tuesday','Wednesday','Thursday','Friday','Saturday','Sunday'],\n",
        "                              inplace=True)\n",
        "test_df['weekday'].replace(to_replace=[i for i in range(0,7)],\n",
        "                              value=['Monday','Tuesday','Wednesday','Thursday','Friday','Saturday','Sunday'],\n",
        "                              inplace=True)"
      ],
      "execution_count": 26,
      "outputs": []
    },
    {
      "cell_type": "code",
      "metadata": {
        "id": "6KmWpA0QUW0D"
      },
      "source": [
        "train_one_hot=pd.get_dummies(train_df['weekday'])\n",
        "test_one_hot=pd.get_dummies(test_df['weekday'])\n",
        "train_df=pd.concat([train_df,train_one_hot],axis=1)\n",
        "test_df=pd.concat([test_df,test_one_hot],axis=1)"
      ],
      "execution_count": 27,
      "outputs": []
    },
    {
      "cell_type": "code",
      "metadata": {
        "colab": {
          "base_uri": "https://localhost:8080/",
          "height": 301
        },
        "id": "UMr8Sw82UWwn",
        "outputId": "feff936e-7cb3-46af-c5db-d81ee4bf50de"
      },
      "source": [
        "train_df.head()"
      ],
      "execution_count": 28,
      "outputs": [
        {
          "output_type": "execute_result",
          "data": {
            "text/html": [
              "<div>\n",
              "<style scoped>\n",
              "    .dataframe tbody tr th:only-of-type {\n",
              "        vertical-align: middle;\n",
              "    }\n",
              "\n",
              "    .dataframe tbody tr th {\n",
              "        vertical-align: top;\n",
              "    }\n",
              "\n",
              "    .dataframe thead th {\n",
              "        text-align: right;\n",
              "    }\n",
              "</style>\n",
              "<table border=\"1\" class=\"dataframe\">\n",
              "  <thead>\n",
              "    <tr style=\"text-align: right;\">\n",
              "      <th></th>\n",
              "      <th>key</th>\n",
              "      <th>fare_amount</th>\n",
              "      <th>pickup_datetime</th>\n",
              "      <th>pickup_longitude</th>\n",
              "      <th>pickup_latitude</th>\n",
              "      <th>dropoff_longitude</th>\n",
              "      <th>dropoff_latitude</th>\n",
              "      <th>passenger_count</th>\n",
              "      <th>logitude_difference</th>\n",
              "      <th>lottitude_difference</th>\n",
              "      <th>Pickup_Distance_airport</th>\n",
              "      <th>Dropoff_Distance_airport</th>\n",
              "      <th>year</th>\n",
              "      <th>month</th>\n",
              "      <th>day</th>\n",
              "      <th>hour</th>\n",
              "      <th>date</th>\n",
              "      <th>weekday</th>\n",
              "      <th>Friday</th>\n",
              "      <th>Monday</th>\n",
              "      <th>Saturday</th>\n",
              "      <th>Sunday</th>\n",
              "      <th>Thursday</th>\n",
              "      <th>Tuesday</th>\n",
              "      <th>Wednesday</th>\n",
              "    </tr>\n",
              "  </thead>\n",
              "  <tbody>\n",
              "    <tr>\n",
              "      <th>0</th>\n",
              "      <td>2009-06-15 17:26:21.0000001</td>\n",
              "      <td>4.5</td>\n",
              "      <td>2009-06-15 17:26:00</td>\n",
              "      <td>-73.844311</td>\n",
              "      <td>40.721319</td>\n",
              "      <td>-73.841610</td>\n",
              "      <td>40.712278</td>\n",
              "      <td>1</td>\n",
              "      <td>0.002701</td>\n",
              "      <td>0.009041</td>\n",
              "      <td>10.504844</td>\n",
              "      <td>9.538175</td>\n",
              "      <td>2009</td>\n",
              "      <td>6</td>\n",
              "      <td>15</td>\n",
              "      <td>17</td>\n",
              "      <td>2009-06-15</td>\n",
              "      <td>Monday</td>\n",
              "      <td>0</td>\n",
              "      <td>1</td>\n",
              "      <td>0</td>\n",
              "      <td>0</td>\n",
              "      <td>0</td>\n",
              "      <td>0</td>\n",
              "      <td>0</td>\n",
              "    </tr>\n",
              "    <tr>\n",
              "      <th>1</th>\n",
              "      <td>2010-01-05 16:52:16.0000002</td>\n",
              "      <td>16.9</td>\n",
              "      <td>2010-01-05 16:52:00</td>\n",
              "      <td>-74.016048</td>\n",
              "      <td>40.711303</td>\n",
              "      <td>-73.979268</td>\n",
              "      <td>40.782004</td>\n",
              "      <td>1</td>\n",
              "      <td>0.036780</td>\n",
              "      <td>0.070701</td>\n",
              "      <td>21.526406</td>\n",
              "      <td>23.075107</td>\n",
              "      <td>2010</td>\n",
              "      <td>1</td>\n",
              "      <td>5</td>\n",
              "      <td>16</td>\n",
              "      <td>2010-01-05</td>\n",
              "      <td>Tuesday</td>\n",
              "      <td>0</td>\n",
              "      <td>0</td>\n",
              "      <td>0</td>\n",
              "      <td>0</td>\n",
              "      <td>0</td>\n",
              "      <td>1</td>\n",
              "      <td>0</td>\n",
              "    </tr>\n",
              "    <tr>\n",
              "      <th>2</th>\n",
              "      <td>2011-08-18 00:35:00.00000049</td>\n",
              "      <td>5.7</td>\n",
              "      <td>2011-08-18 00:35:00</td>\n",
              "      <td>-73.982738</td>\n",
              "      <td>40.761270</td>\n",
              "      <td>-73.991242</td>\n",
              "      <td>40.750562</td>\n",
              "      <td>2</td>\n",
              "      <td>0.008504</td>\n",
              "      <td>0.010708</td>\n",
              "      <td>21.810508</td>\n",
              "      <td>21.694306</td>\n",
              "      <td>2011</td>\n",
              "      <td>8</td>\n",
              "      <td>18</td>\n",
              "      <td>0</td>\n",
              "      <td>2011-08-18</td>\n",
              "      <td>Thursday</td>\n",
              "      <td>0</td>\n",
              "      <td>0</td>\n",
              "      <td>0</td>\n",
              "      <td>0</td>\n",
              "      <td>1</td>\n",
              "      <td>0</td>\n",
              "      <td>0</td>\n",
              "    </tr>\n",
              "    <tr>\n",
              "      <th>3</th>\n",
              "      <td>2012-04-21 04:30:42.0000001</td>\n",
              "      <td>7.7</td>\n",
              "      <td>2012-04-21 04:30:00</td>\n",
              "      <td>-73.987130</td>\n",
              "      <td>40.733143</td>\n",
              "      <td>-73.991567</td>\n",
              "      <td>40.758092</td>\n",
              "      <td>1</td>\n",
              "      <td>0.004437</td>\n",
              "      <td>0.024949</td>\n",
              "      <td>20.372659</td>\n",
              "      <td>22.195713</td>\n",
              "      <td>2012</td>\n",
              "      <td>4</td>\n",
              "      <td>21</td>\n",
              "      <td>4</td>\n",
              "      <td>2012-04-21</td>\n",
              "      <td>Saturday</td>\n",
              "      <td>0</td>\n",
              "      <td>0</td>\n",
              "      <td>1</td>\n",
              "      <td>0</td>\n",
              "      <td>0</td>\n",
              "      <td>0</td>\n",
              "      <td>0</td>\n",
              "    </tr>\n",
              "    <tr>\n",
              "      <th>4</th>\n",
              "      <td>2010-03-09 07:51:00.000000135</td>\n",
              "      <td>5.3</td>\n",
              "      <td>2010-03-09 07:51:00</td>\n",
              "      <td>-73.968095</td>\n",
              "      <td>40.768008</td>\n",
              "      <td>-73.956655</td>\n",
              "      <td>40.783762</td>\n",
              "      <td>1</td>\n",
              "      <td>0.011440</td>\n",
              "      <td>0.015754</td>\n",
              "      <td>21.334291</td>\n",
              "      <td>21.853756</td>\n",
              "      <td>2010</td>\n",
              "      <td>3</td>\n",
              "      <td>9</td>\n",
              "      <td>7</td>\n",
              "      <td>2010-03-09</td>\n",
              "      <td>Tuesday</td>\n",
              "      <td>0</td>\n",
              "      <td>0</td>\n",
              "      <td>0</td>\n",
              "      <td>0</td>\n",
              "      <td>0</td>\n",
              "      <td>1</td>\n",
              "      <td>0</td>\n",
              "    </tr>\n",
              "  </tbody>\n",
              "</table>\n",
              "</div>"
            ],
            "text/plain": [
              "                             key  fare_amount  ... Tuesday  Wednesday\n",
              "0    2009-06-15 17:26:21.0000001          4.5  ...       0          0\n",
              "1    2010-01-05 16:52:16.0000002         16.9  ...       1          0\n",
              "2   2011-08-18 00:35:00.00000049          5.7  ...       0          0\n",
              "3    2012-04-21 04:30:42.0000001          7.7  ...       0          0\n",
              "4  2010-03-09 07:51:00.000000135          5.3  ...       1          0\n",
              "\n",
              "[5 rows x 25 columns]"
            ]
          },
          "metadata": {
            "tags": []
          },
          "execution_count": 28
        }
      ]
    },
    {
      "cell_type": "code",
      "metadata": {
        "id": "ZwV42uDFUWty"
      },
      "source": [
        "train_df.drop(['weekday', 'pickup_datetime', 'pickup_longitude', 'pickup_latitude', 'dropoff_longitude', 'dropoff_latitude', 'date'], axis=1, inplace=True)\n",
        "test_df.drop(['weekday', 'pickup_datetime', 'pickup_longitude', 'pickup_latitude', 'dropoff_longitude', 'dropoff_latitude', 'date'], axis=1, inplace=True)"
      ],
      "execution_count": 29,
      "outputs": []
    },
    {
      "cell_type": "code",
      "metadata": {
        "id": "GOu2CBnXZizq"
      },
      "source": [
        "y = train_df['fare_amount']\n",
        "train_df.drop(['key','fare_amount'], axis=1, inplace=True)"
      ],
      "execution_count": 30,
      "outputs": []
    },
    {
      "cell_type": "markdown",
      "metadata": {
        "id": "_AUyM4gWZVaf"
      },
      "source": [
        "## Scaling the data"
      ]
    },
    {
      "cell_type": "code",
      "metadata": {
        "id": "vyEwP_lTUWql"
      },
      "source": [
        "scaler = StandardScaler()\n",
        "\n",
        "X_train_scaled = scaler.fit_transform(train_df.astype(np.float64))"
      ],
      "execution_count": 31,
      "outputs": []
    },
    {
      "cell_type": "code",
      "metadata": {
        "colab": {
          "base_uri": "https://localhost:8080/"
        },
        "id": "z1NMw179UWoQ",
        "outputId": "3480104b-421e-4f37-d1b4-430f1ab7d9c1"
      },
      "source": [
        "X_train_scaled"
      ],
      "execution_count": 32,
      "outputs": [
        {
          "output_type": "execute_result",
          "data": {
            "text/plain": [
              "array([[-0.518, -0.042, -0.038, ..., -0.419, -0.402, -0.413],\n",
              "       [-0.518, -0.033, -0.011, ..., -0.419,  2.489, -0.413],\n",
              "       [ 0.251, -0.04 , -0.037, ...,  2.386, -0.402, -0.413],\n",
              "       ...,\n",
              "       [-0.518, -0.041, -0.041, ...,  2.386, -0.402, -0.413],\n",
              "       [ 1.789, -0.043, -0.037, ..., -0.419, -0.402, -0.413],\n",
              "       [-0.518, -0.041, -0.034, ..., -0.419,  2.489, -0.413]])"
            ]
          },
          "metadata": {
            "tags": []
          },
          "execution_count": 32
        }
      ]
    },
    {
      "cell_type": "code",
      "metadata": {
        "colab": {
          "base_uri": "https://localhost:8080/",
          "height": 197
        },
        "id": "PL7BZm90UWk6",
        "outputId": "ff3bc1d0-0214-44e9-ad28-5efb9ef61eea"
      },
      "source": [
        "scaled_features_df = pd.DataFrame(X_train_scaled, columns=train_df.columns)\n",
        "scaled_features_df.head()"
      ],
      "execution_count": 33,
      "outputs": [
        {
          "output_type": "execute_result",
          "data": {
            "text/html": [
              "<div>\n",
              "<style scoped>\n",
              "    .dataframe tbody tr th:only-of-type {\n",
              "        vertical-align: middle;\n",
              "    }\n",
              "\n",
              "    .dataframe tbody tr th {\n",
              "        vertical-align: top;\n",
              "    }\n",
              "\n",
              "    .dataframe thead th {\n",
              "        text-align: right;\n",
              "    }\n",
              "</style>\n",
              "<table border=\"1\" class=\"dataframe\">\n",
              "  <thead>\n",
              "    <tr style=\"text-align: right;\">\n",
              "      <th></th>\n",
              "      <th>passenger_count</th>\n",
              "      <th>logitude_difference</th>\n",
              "      <th>lottitude_difference</th>\n",
              "      <th>Pickup_Distance_airport</th>\n",
              "      <th>Dropoff_Distance_airport</th>\n",
              "      <th>year</th>\n",
              "      <th>month</th>\n",
              "      <th>day</th>\n",
              "      <th>hour</th>\n",
              "      <th>Friday</th>\n",
              "      <th>Monday</th>\n",
              "      <th>Saturday</th>\n",
              "      <th>Sunday</th>\n",
              "      <th>Thursday</th>\n",
              "      <th>Tuesday</th>\n",
              "      <th>Wednesday</th>\n",
              "    </tr>\n",
              "  </thead>\n",
              "  <tbody>\n",
              "    <tr>\n",
              "      <th>0</th>\n",
              "      <td>-0.518258</td>\n",
              "      <td>-0.042038</td>\n",
              "      <td>-0.037744</td>\n",
              "      <td>-0.149976</td>\n",
              "      <td>-0.150538</td>\n",
              "      <td>-1.470457</td>\n",
              "      <td>-0.075707</td>\n",
              "      <td>-0.076550</td>\n",
              "      <td>0.538601</td>\n",
              "      <td>-0.425523</td>\n",
              "      <td>2.592339</td>\n",
              "      <td>-0.424703</td>\n",
              "      <td>-0.386453</td>\n",
              "      <td>-0.419145</td>\n",
              "      <td>-0.401796</td>\n",
              "      <td>-0.41344</td>\n",
              "    </tr>\n",
              "    <tr>\n",
              "      <th>1</th>\n",
              "      <td>-0.518258</td>\n",
              "      <td>-0.032933</td>\n",
              "      <td>-0.011191</td>\n",
              "      <td>-0.141022</td>\n",
              "      <td>-0.139518</td>\n",
              "      <td>-0.934555</td>\n",
              "      <td>-1.524750</td>\n",
              "      <td>-1.228944</td>\n",
              "      <td>0.384929</td>\n",
              "      <td>-0.425523</td>\n",
              "      <td>-0.385752</td>\n",
              "      <td>-0.424703</td>\n",
              "      <td>-0.386453</td>\n",
              "      <td>-0.419145</td>\n",
              "      <td>2.488824</td>\n",
              "      <td>-0.41344</td>\n",
              "    </tr>\n",
              "    <tr>\n",
              "      <th>2</th>\n",
              "      <td>0.250876</td>\n",
              "      <td>-0.040487</td>\n",
              "      <td>-0.037027</td>\n",
              "      <td>-0.140791</td>\n",
              "      <td>-0.140642</td>\n",
              "      <td>-0.398652</td>\n",
              "      <td>0.503911</td>\n",
              "      <td>0.269168</td>\n",
              "      <td>-2.073809</td>\n",
              "      <td>-0.425523</td>\n",
              "      <td>-0.385752</td>\n",
              "      <td>-0.424703</td>\n",
              "      <td>-0.386453</td>\n",
              "      <td>2.385812</td>\n",
              "      <td>-0.401796</td>\n",
              "      <td>-0.41344</td>\n",
              "    </tr>\n",
              "    <tr>\n",
              "      <th>3</th>\n",
              "      <td>-0.518258</td>\n",
              "      <td>-0.041574</td>\n",
              "      <td>-0.030894</td>\n",
              "      <td>-0.141959</td>\n",
              "      <td>-0.140233</td>\n",
              "      <td>0.137250</td>\n",
              "      <td>-0.655324</td>\n",
              "      <td>0.614886</td>\n",
              "      <td>-1.459125</td>\n",
              "      <td>-0.425523</td>\n",
              "      <td>-0.385752</td>\n",
              "      <td>2.354586</td>\n",
              "      <td>-0.386453</td>\n",
              "      <td>-0.419145</td>\n",
              "      <td>-0.401796</td>\n",
              "      <td>-0.41344</td>\n",
              "    </tr>\n",
              "    <tr>\n",
              "      <th>4</th>\n",
              "      <td>-0.518258</td>\n",
              "      <td>-0.039703</td>\n",
              "      <td>-0.034854</td>\n",
              "      <td>-0.141178</td>\n",
              "      <td>-0.140512</td>\n",
              "      <td>-0.934555</td>\n",
              "      <td>-0.945133</td>\n",
              "      <td>-0.767986</td>\n",
              "      <td>-0.998111</td>\n",
              "      <td>-0.425523</td>\n",
              "      <td>-0.385752</td>\n",
              "      <td>-0.424703</td>\n",
              "      <td>-0.386453</td>\n",
              "      <td>-0.419145</td>\n",
              "      <td>2.488824</td>\n",
              "      <td>-0.41344</td>\n",
              "    </tr>\n",
              "  </tbody>\n",
              "</table>\n",
              "</div>"
            ],
            "text/plain": [
              "   passenger_count  logitude_difference  ...   Tuesday  Wednesday\n",
              "0        -0.518258            -0.042038  ... -0.401796   -0.41344\n",
              "1        -0.518258            -0.032933  ...  2.488824   -0.41344\n",
              "2         0.250876            -0.040487  ... -0.401796   -0.41344\n",
              "3        -0.518258            -0.041574  ... -0.401796   -0.41344\n",
              "4        -0.518258            -0.039703  ...  2.488824   -0.41344\n",
              "\n",
              "[5 rows x 16 columns]"
            ]
          },
          "metadata": {
            "tags": []
          },
          "execution_count": 33
        }
      ]
    },
    {
      "cell_type": "code",
      "metadata": {
        "colab": {
          "base_uri": "https://localhost:8080/",
          "height": 197
        },
        "id": "MlEslsDVUWiY",
        "outputId": "58ef708e-9e48-4186-e35e-8a6d7855afe5"
      },
      "source": [
        "scaled_features_df.head()"
      ],
      "execution_count": 34,
      "outputs": [
        {
          "output_type": "execute_result",
          "data": {
            "text/html": [
              "<div>\n",
              "<style scoped>\n",
              "    .dataframe tbody tr th:only-of-type {\n",
              "        vertical-align: middle;\n",
              "    }\n",
              "\n",
              "    .dataframe tbody tr th {\n",
              "        vertical-align: top;\n",
              "    }\n",
              "\n",
              "    .dataframe thead th {\n",
              "        text-align: right;\n",
              "    }\n",
              "</style>\n",
              "<table border=\"1\" class=\"dataframe\">\n",
              "  <thead>\n",
              "    <tr style=\"text-align: right;\">\n",
              "      <th></th>\n",
              "      <th>passenger_count</th>\n",
              "      <th>logitude_difference</th>\n",
              "      <th>lottitude_difference</th>\n",
              "      <th>Pickup_Distance_airport</th>\n",
              "      <th>Dropoff_Distance_airport</th>\n",
              "      <th>year</th>\n",
              "      <th>month</th>\n",
              "      <th>day</th>\n",
              "      <th>hour</th>\n",
              "      <th>Friday</th>\n",
              "      <th>Monday</th>\n",
              "      <th>Saturday</th>\n",
              "      <th>Sunday</th>\n",
              "      <th>Thursday</th>\n",
              "      <th>Tuesday</th>\n",
              "      <th>Wednesday</th>\n",
              "    </tr>\n",
              "  </thead>\n",
              "  <tbody>\n",
              "    <tr>\n",
              "      <th>0</th>\n",
              "      <td>-0.518258</td>\n",
              "      <td>-0.042038</td>\n",
              "      <td>-0.037744</td>\n",
              "      <td>-0.149976</td>\n",
              "      <td>-0.150538</td>\n",
              "      <td>-1.470457</td>\n",
              "      <td>-0.075707</td>\n",
              "      <td>-0.076550</td>\n",
              "      <td>0.538601</td>\n",
              "      <td>-0.425523</td>\n",
              "      <td>2.592339</td>\n",
              "      <td>-0.424703</td>\n",
              "      <td>-0.386453</td>\n",
              "      <td>-0.419145</td>\n",
              "      <td>-0.401796</td>\n",
              "      <td>-0.41344</td>\n",
              "    </tr>\n",
              "    <tr>\n",
              "      <th>1</th>\n",
              "      <td>-0.518258</td>\n",
              "      <td>-0.032933</td>\n",
              "      <td>-0.011191</td>\n",
              "      <td>-0.141022</td>\n",
              "      <td>-0.139518</td>\n",
              "      <td>-0.934555</td>\n",
              "      <td>-1.524750</td>\n",
              "      <td>-1.228944</td>\n",
              "      <td>0.384929</td>\n",
              "      <td>-0.425523</td>\n",
              "      <td>-0.385752</td>\n",
              "      <td>-0.424703</td>\n",
              "      <td>-0.386453</td>\n",
              "      <td>-0.419145</td>\n",
              "      <td>2.488824</td>\n",
              "      <td>-0.41344</td>\n",
              "    </tr>\n",
              "    <tr>\n",
              "      <th>2</th>\n",
              "      <td>0.250876</td>\n",
              "      <td>-0.040487</td>\n",
              "      <td>-0.037027</td>\n",
              "      <td>-0.140791</td>\n",
              "      <td>-0.140642</td>\n",
              "      <td>-0.398652</td>\n",
              "      <td>0.503911</td>\n",
              "      <td>0.269168</td>\n",
              "      <td>-2.073809</td>\n",
              "      <td>-0.425523</td>\n",
              "      <td>-0.385752</td>\n",
              "      <td>-0.424703</td>\n",
              "      <td>-0.386453</td>\n",
              "      <td>2.385812</td>\n",
              "      <td>-0.401796</td>\n",
              "      <td>-0.41344</td>\n",
              "    </tr>\n",
              "    <tr>\n",
              "      <th>3</th>\n",
              "      <td>-0.518258</td>\n",
              "      <td>-0.041574</td>\n",
              "      <td>-0.030894</td>\n",
              "      <td>-0.141959</td>\n",
              "      <td>-0.140233</td>\n",
              "      <td>0.137250</td>\n",
              "      <td>-0.655324</td>\n",
              "      <td>0.614886</td>\n",
              "      <td>-1.459125</td>\n",
              "      <td>-0.425523</td>\n",
              "      <td>-0.385752</td>\n",
              "      <td>2.354586</td>\n",
              "      <td>-0.386453</td>\n",
              "      <td>-0.419145</td>\n",
              "      <td>-0.401796</td>\n",
              "      <td>-0.41344</td>\n",
              "    </tr>\n",
              "    <tr>\n",
              "      <th>4</th>\n",
              "      <td>-0.518258</td>\n",
              "      <td>-0.039703</td>\n",
              "      <td>-0.034854</td>\n",
              "      <td>-0.141178</td>\n",
              "      <td>-0.140512</td>\n",
              "      <td>-0.934555</td>\n",
              "      <td>-0.945133</td>\n",
              "      <td>-0.767986</td>\n",
              "      <td>-0.998111</td>\n",
              "      <td>-0.425523</td>\n",
              "      <td>-0.385752</td>\n",
              "      <td>-0.424703</td>\n",
              "      <td>-0.386453</td>\n",
              "      <td>-0.419145</td>\n",
              "      <td>2.488824</td>\n",
              "      <td>-0.41344</td>\n",
              "    </tr>\n",
              "  </tbody>\n",
              "</table>\n",
              "</div>"
            ],
            "text/plain": [
              "   passenger_count  logitude_difference  ...   Tuesday  Wednesday\n",
              "0        -0.518258            -0.042038  ... -0.401796   -0.41344\n",
              "1        -0.518258            -0.032933  ...  2.488824   -0.41344\n",
              "2         0.250876            -0.040487  ... -0.401796   -0.41344\n",
              "3        -0.518258            -0.041574  ... -0.401796   -0.41344\n",
              "4        -0.518258            -0.039703  ...  2.488824   -0.41344\n",
              "\n",
              "[5 rows x 16 columns]"
            ]
          },
          "metadata": {
            "tags": []
          },
          "execution_count": 34
        }
      ]
    },
    {
      "cell_type": "markdown",
      "metadata": {
        "id": "hy6sImdtiBI1"
      },
      "source": [
        "## Now into splitting and getting the data ready for model fitting"
      ]
    },
    {
      "cell_type": "code",
      "metadata": {
        "id": "JsWLTEAVUWfh"
      },
      "source": [
        "X_train, X_test, y_train, y_test = train_test_split(scaled_features_df, y, test_size=0.01)"
      ],
      "execution_count": 35,
      "outputs": []
    },
    {
      "cell_type": "markdown",
      "metadata": {
        "id": "j5VGUuMsims7"
      },
      "source": [
        "### Linear regression"
      ]
    },
    {
      "cell_type": "code",
      "metadata": {
        "id": "t6-gLgh1UWdD"
      },
      "source": [
        "lr_reg = LinearRegression()\n",
        "lr_reg.fit(X_train, y_train)\n",
        "\n",
        "lr_predictions = lr_reg.predict(X_test)"
      ],
      "execution_count": 36,
      "outputs": []
    },
    {
      "cell_type": "code",
      "metadata": {
        "colab": {
          "base_uri": "https://localhost:8080/"
        },
        "id": "J-Z9IiCIUWag",
        "outputId": "2f938024-8b03-407c-a23f-8909528f8ae4"
      },
      "source": [
        "lr_mae = mean_absolute_error(y_test, lr_predictions)\n",
        "lr_mse = mean_squared_error(y_test, lr_predictions)\n",
        "print(\"MAE:\", lr_mae)\n",
        "print(\"MSE:\", np.sqrt(lr_mse))"
      ],
      "execution_count": 37,
      "outputs": [
        {
          "output_type": "stream",
          "text": [
            "MAE: 5.5445924012993455\n",
            "MSE: 8.46163795201728\n"
          ],
          "name": "stdout"
        }
      ]
    },
    {
      "cell_type": "markdown",
      "metadata": {
        "id": "wKFmVkR9jBH3"
      },
      "source": [
        "### Decesion tree"
      ]
    },
    {
      "cell_type": "code",
      "metadata": {
        "id": "qtNO80BSi9om",
        "outputId": "1559a4ca-6963-40d6-f413-3377b117da7d",
        "colab": {
          "base_uri": "https://localhost:8080/"
        }
      },
      "source": [
        "from sklearn.tree import DecisionTreeRegressor\n",
        "\n",
        "tree_reg = DecisionTreeRegressor()\n",
        "tree_reg.fit(X_train, y_train)\n",
        "\n",
        "tree_predictions = tree_reg.predict(X_test)\n",
        "\n",
        "tree_mae = mean_absolute_error(y_test, tree_predictions)\n",
        "tree_mse = mean_squared_error(y_test, tree_predictions)\n",
        "\n",
        "print(\"MAE:\", tree_mae)\n",
        "print(\"MSE:\", np.sqrt(tree_mse))"
      ],
      "execution_count": 39,
      "outputs": [
        {
          "output_type": "stream",
          "text": [
            "MAE: 3.05417\n",
            "MSE: 6.610615243681938\n"
          ],
          "name": "stdout"
        }
      ]
    },
    {
      "cell_type": "markdown",
      "metadata": {
        "id": "Vbh5b1DTixC6"
      },
      "source": [
        "### Better Evaluation Using Cross-Validation"
      ]
    },
    {
      "cell_type": "code",
      "metadata": {
        "id": "HYDGadgCUWXt"
      },
      "source": [
        "from sklearn.model_selection import cross_val_score\n",
        "\n",
        "tree_scores = cross_val_score(tree_reg, X_train, y_train,\n",
        "                         scoring=\"neg_mean_squared_error\", cv=10)\n",
        "\n",
        "tree_rmse_scores = np.sqrt(-tree_scores)"
      ],
      "execution_count": 40,
      "outputs": []
    },
    {
      "cell_type": "code",
      "metadata": {
        "id": "BOrm0UxTUWVG"
      },
      "source": [
        ""
      ],
      "execution_count": null,
      "outputs": []
    },
    {
      "cell_type": "code",
      "metadata": {
        "id": "JV6KHXwmUWSv"
      },
      "source": [
        ""
      ],
      "execution_count": null,
      "outputs": []
    },
    {
      "cell_type": "code",
      "metadata": {
        "id": "M5C9fgT9UWPp"
      },
      "source": [
        ""
      ],
      "execution_count": null,
      "outputs": []
    },
    {
      "cell_type": "code",
      "metadata": {
        "id": "oIbeBEepUWM8"
      },
      "source": [
        ""
      ],
      "execution_count": null,
      "outputs": []
    },
    {
      "cell_type": "code",
      "metadata": {
        "id": "Dn87htfwUWJv"
      },
      "source": [
        ""
      ],
      "execution_count": null,
      "outputs": []
    },
    {
      "cell_type": "code",
      "metadata": {
        "id": "bdYS_nU_UWFh"
      },
      "source": [
        ""
      ],
      "execution_count": null,
      "outputs": []
    },
    {
      "cell_type": "code",
      "metadata": {
        "id": "M72dW2aNsi1J"
      },
      "source": [
        ""
      ],
      "execution_count": null,
      "outputs": []
    }
  ]
}